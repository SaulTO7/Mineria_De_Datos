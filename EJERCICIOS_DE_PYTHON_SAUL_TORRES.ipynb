{
  "nbformat": 4,
  "nbformat_minor": 0,
  "metadata": {
    "colab": {
      "name": "EJERCICIOS_DE_PYTHON_SAUL_TORRES.ipynb",
      "provenance": [],
      "authorship_tag": "ABX9TyMaq9+NKRdk2xg8Q9Be4ROK",
      "include_colab_link": true
    },
    "kernelspec": {
      "name": "python3",
      "display_name": "Python 3"
    },
    "language_info": {
      "name": "python"
    }
  },
  "cells": [
    {
      "cell_type": "markdown",
      "metadata": {
        "id": "view-in-github",
        "colab_type": "text"
      },
      "source": [
        "<a href=\"https://colab.research.google.com/github/SaulTO7/Mineria_De_Datos/blob/main/EJERCICIOS_DE_PYTHON_SAUL_TORRES.ipynb\" target=\"_parent\"><img src=\"https://colab.research.google.com/assets/colab-badge.svg\" alt=\"Open In Colab\"/></a>"
      ]
    },
    {
      "cell_type": "markdown",
      "metadata": {
        "id": "SD7I-9hnUy68"
      },
      "source": [
        "\n",
        "## Saul Angel Torres Guerrero \n",
        "# Matricula:1842161\n",
        "# Ejercicios de Mineria texto en negrita\n",
        "\n",
        "> Bloque con sangría\n",
        "\n"
      ]
    },
    {
      "cell_type": "markdown",
      "metadata": {
        "id": "SGQVEFycVLvi"
      },
      "source": [
        "## TUPLAS"
      ]
    },
    {
      "cell_type": "markdown",
      "metadata": {
        "id": "y7fZ1sSOVRY0"
      },
      "source": [
        "Crear una variable flotante, integer, boleana y compleja e imprimir el tipo de variable que es."
      ]
    },
    {
      "cell_type": "code",
      "metadata": {
        "colab": {
          "base_uri": "https://localhost:8080/"
        },
        "id": "C6SFOKMSUvIr",
        "outputId": "887a0180-52d7-41ad-cee6-fa6fadaae23f"
      },
      "source": [
        "#https://ellibrodepython.com/booleano-python\n",
        "#https://ellibrodepython.com/numeros-complejos\n",
        "vflot=2.0\n",
        "vint=7\n",
        "vboo=True\n",
        "vcom=5+5j\n",
        "print(type(vflot))\n",
        "print(type(vint))\n",
        "print(type(vboo))\n",
        "print(type(vcom))"
      ],
      "execution_count": 1,
      "outputs": [
        {
          "output_type": "stream",
          "text": [
            "<class 'float'>\n",
            "<class 'int'>\n",
            "<class 'bool'>\n",
            "<class 'complex'>\n"
          ],
          "name": "stdout"
        }
      ]
    },
    {
      "cell_type": "markdown",
      "metadata": {
        "id": "JDI9hrgFVcEr"
      },
      "source": [
        "Crear una tupla con valores enteros imprimir el primer y ultimo valor."
      ]
    },
    {
      "cell_type": "code",
      "metadata": {
        "colab": {
          "base_uri": "https://localhost:8080/"
        },
        "id": "0dXLv6bDUwM_",
        "outputId": "f9a4c29d-ef58-403e-c626-9dca5d512210"
      },
      "source": [
        "tup=(10,11,12,13,17)\n",
        "print(tup[0])\n",
        "print(tup[4])"
      ],
      "execution_count": 2,
      "outputs": [
        {
          "output_type": "stream",
          "text": [
            "10\n",
            "17\n"
          ],
          "name": "stdout"
        }
      ]
    },
    {
      "cell_type": "markdown",
      "metadata": {
        "id": "1-dC5UaoVvot"
      },
      "source": [
        "Añadir 3 valores de string a la tupla"
      ]
    },
    {
      "cell_type": "code",
      "metadata": {
        "colab": {
          "base_uri": "https://localhost:8080/"
        },
        "id": "d6UK5QfxVw47",
        "outputId": "e1b58657-13d0-4cb0-9646-576b292f9ac2"
      },
      "source": [
        "tup=(11,12,13,14,15)\n",
        "tup=tup.__add__((29,20,21,))\n",
        "print(tup)"
      ],
      "execution_count": 3,
      "outputs": [
        {
          "output_type": "stream",
          "text": [
            "(11, 12, 13, 14, 15, 29, 20, 21)\n"
          ],
          "name": "stdout"
        }
      ]
    },
    {
      "cell_type": "markdown",
      "metadata": {
        "id": "2DjnqNK9V5qp"
      },
      "source": [
        "Verificar si una variable existe dentro de la tupla"
      ]
    },
    {
      "cell_type": "code",
      "metadata": {
        "colab": {
          "base_uri": "https://localhost:8080/"
        },
        "id": "N9vQnrvQV6cP",
        "outputId": "fff9cddc-a263-4ed5-babf-fc5c21285bff"
      },
      "source": [
        "#https://www.delftstack.com/es/howto/python/python-check-if-variable-exists/\n",
        "tup=(11,12,13,14,15)\n",
        "tup=tup.__add__((20,21,22,))\n",
        "if 'tup' in globals():\n",
        "    print (\"tup: variable exist\")\n",
        "else:\n",
        "    print (\"tup: variable does not exist\")"
      ],
      "execution_count": 4,
      "outputs": [
        {
          "output_type": "stream",
          "text": [
            "tup: variable exist\n"
          ],
          "name": "stdout"
        }
      ]
    },
    {
      "cell_type": "markdown",
      "metadata": {
        "id": "sRqjyhnZV_zB"
      },
      "source": [
        "# LISTAS"
      ]
    },
    {
      "cell_type": "markdown",
      "metadata": {
        "id": "MG7yfQECWFiL"
      },
      "source": [
        "Crear una lista con 40 elementos aleatorios enteros."
      ]
    },
    {
      "cell_type": "code",
      "metadata": {
        "colab": {
          "base_uri": "https://localhost:8080/"
        },
        "id": "frLv2U5tWFAc",
        "outputId": "6154cd2c-3bc4-4dc0-ce72-7aee8a0725c5"
      },
      "source": [
        "#https://j2logo.com/python/generar-numeros-aleatorios-en-python/\n",
        "import random\n",
        "lista=[]\n",
        "i=1\n",
        "while i<=40:\n",
        "  lista.append(random.randint(1,100))\n",
        "  i=i+1\n",
        "print(lista)\n",
        "print(\"\\nCantidad de números aleatorios en la lista:\",len(lista))"
      ],
      "execution_count": 8,
      "outputs": [
        {
          "output_type": "stream",
          "text": [
            "[66, 12, 31, 11, 20, 32, 22, 82, 63, 6, 94, 32, 57, 26, 39, 44, 44, 28, 53, 27, 90, 81, 28, 34, 21, 58, 1, 76, 49, 72, 99, 46, 47, 33, 100, 37, 74, 96, 51, 27]\n",
            "\n",
            "Cantidad de números aleatorios en la lista: 40\n"
          ],
          "name": "stdout"
        }
      ]
    },
    {
      "cell_type": "markdown",
      "metadata": {
        "id": "_Tw_uHoOWYDB"
      },
      "source": [
        "Con una funcion (def) crear dos listas nuevas a partir de la lista creada por numeros aleatorios, en la cual en una esten los elementos pares, y en la otra los elementos impares."
      ]
    },
    {
      "cell_type": "code",
      "metadata": {
        "colab": {
          "base_uri": "https://localhost:8080/"
        },
        "id": "eMxxVKlsWcVR",
        "outputId": "f8709da3-ec5a-4da0-877c-3edb3dc2dcfb"
      },
      "source": [
        "import random\n",
        "lista=[]\n",
        "i=1\n",
        "while i<=40:\n",
        "  lista.append(random.randint(1,100))\n",
        "  i=i+1\n",
        "class f: #Función\n",
        "  def parimp(Alista): #Par e impar ;Alista=Agregar lista\n",
        "    npares=[] #npares= números pares\n",
        "    nimpares=[] #nimpares= números impares\n",
        "    j=0\n",
        "    while j<=len(Alista)-1:\n",
        "      if Alista[j]%2==0:\n",
        "        npares.append(Alista[j])\n",
        "      else:\n",
        "        nimpares.append(Alista[j])\n",
        "      j=j+1\n",
        "    print(\"\\nNúmeros pares: \",npares)\n",
        "    print(\"\\nNúmeros impares: \",nimpares)\n",
        "f.parimp(lista)"
      ],
      "execution_count": 10,
      "outputs": [
        {
          "output_type": "stream",
          "text": [
            "\n",
            "Números pares:  [62, 36, 2, 78, 64, 98, 94, 32, 100, 88, 38, 50, 2, 18, 56, 48, 100, 36, 30, 90, 76, 100, 2]\n",
            "\n",
            "Números impares:  [79, 45, 59, 81, 45, 47, 35, 17, 9, 99, 79, 23, 83, 99, 15, 19, 77]\n"
          ],
          "name": "stdout"
        }
      ]
    },
    {
      "cell_type": "markdown",
      "metadata": {
        "id": "rDze2QF2W_qC"
      },
      "source": [
        "Crear dos variables con la longitud de ambas listas nuevas e imprimir las variables."
      ]
    },
    {
      "cell_type": "code",
      "metadata": {
        "colab": {
          "base_uri": "https://localhost:8080/"
        },
        "id": "mgOF_ar1Xsuz",
        "outputId": "d9adc606-0baa-4bf2-dbfe-4d25f771f27a"
      },
      "source": [
        "import random\n",
        "lista=[]\n",
        "i=1\n",
        "while i<=40:\n",
        "  lista.append(random.randint(1,100))\n",
        "  i=i+1\n",
        "class f: #Función\n",
        "  def parimp(Alista): #Par e impar ;Alista=Agregar lista\n",
        "    npares=[] #npares= números pares\n",
        "    nimpares=[] #nimpares= números impares\n",
        "    j=0\n",
        "    while j<=len(Alista)-1:\n",
        "      if Alista[j]%2==0:\n",
        "        npares.append(Alista[j])\n",
        "      else:\n",
        "        nimpares.append(Alista[j])\n",
        "      j=j+1\n",
        "    x=len(npares)\n",
        "    y=len(nimpares)\n",
        "    print(\"Cantidad de números pares:\",x,\"\\nNúmeros pares: \",npares)\n",
        "    print(\"\\nCantidad de números impares:\",y,\"\\nNúmeros impares: \",nimpares)\n",
        "f.parimp(lista)"
      ],
      "execution_count": 22,
      "outputs": [
        {
          "output_type": "stream",
          "text": [
            "Cantidad de números pares: 23 \n",
            "Números pares:  [18, 42, 50, 22, 92, 16, 14, 38, 58, 12, 70, 46, 10, 24, 36, 100, 80, 28, 68, 14, 88, 82, 100]\n",
            "\n",
            "Cantidad de números impares: 17 \n",
            "Números impares:  [59, 95, 81, 29, 71, 43, 33, 19, 61, 35, 65, 39, 49, 53, 47, 57, 19]\n"
          ],
          "name": "stdout"
        }
      ]
    },
    {
      "cell_type": "markdown",
      "metadata": {
        "id": "1feIydS3Y0Q3"
      },
      "source": [
        "Ordenar los elementos de la lista par de mayor a menor, y los de la lista impar de menor a mayor"
      ]
    },
    {
      "cell_type": "code",
      "metadata": {
        "colab": {
          "base_uri": "https://localhost:8080/"
        },
        "id": "CKTg_7F7Y3ox",
        "outputId": "68eef47b-8aa4-4934-c593-406594af450a"
      },
      "source": [
        "#https://j2logo.com/python/ordenar-una-lista-en-python/\n",
        "import random\n",
        "lista=[]\n",
        "i=1\n",
        "while i<=40:\n",
        "  lista.append(random.randint(1,100))\n",
        "  i=i+1\n",
        "class f: #Función\n",
        "  def parimp(Alista): #Par e impar ;Alista=Agregar lista\n",
        "    npares=[] #npares= números pares\n",
        "    nimpares=[] #nimpares= números impares\n",
        "    j=0\n",
        "    while j<=len(Alista)-1:\n",
        "      if Alista[j]%2==0:\n",
        "        npares.append(Alista[j])\n",
        "      else:\n",
        "        nimpares.append(Alista[j])\n",
        "      j=j+1\n",
        "    npares.sort(reverse=True)\n",
        "    nimpares.sort()\n",
        "    x=len(npares)\n",
        "    y=len(nimpares)\n",
        "    print(\"Cantidad de números pares:\",x,\"\\nNúmeros pares: \",npares)\n",
        "    print(\"\\nCantidad de números impares:\",y,\"\\nNúmeros impares: \",nimpares)\n",
        "f.parimp(lista)"
      ],
      "execution_count": 24,
      "outputs": [
        {
          "output_type": "stream",
          "text": [
            "Cantidad de números pares: 18 \n",
            "Números pares:  [100, 98, 96, 92, 90, 90, 90, 82, 80, 76, 72, 62, 54, 36, 20, 12, 4, 2]\n",
            "\n",
            "Cantidad de números impares: 22 \n",
            "Números impares:  [5, 5, 9, 13, 17, 19, 27, 31, 43, 51, 63, 63, 63, 69, 73, 85, 89, 89, 93, 93, 93, 97]\n"
          ],
          "name": "stdout"
        }
      ]
    },
    {
      "cell_type": "markdown",
      "metadata": {
        "id": "iqachqaqZFMU"
      },
      "source": [
        "Utilizar al menos cuatro de las funciones de listas en python en la lista original de 40 elementos"
      ]
    },
    {
      "cell_type": "code",
      "metadata": {
        "colab": {
          "base_uri": "https://localhost:8080/"
        },
        "id": "3mVnOQCnZGaX",
        "outputId": "f765520e-07c9-424d-c9da-22c1471f07c5"
      },
      "source": [
        "lista.append(100)\n",
        "lista.reverse()\n",
        "lista.pop()\n",
        "lista.extend([0,-4])\n",
        "lista"
      ],
      "execution_count": 27,
      "outputs": [
        {
          "output_type": "execute_result",
          "data": {
            "text/plain": [
              "[100,\n",
              " -2,\n",
              " -1,\n",
              " 51,\n",
              " 82,\n",
              " 93,\n",
              " 93,\n",
              " 69,\n",
              " 76,\n",
              " 89,\n",
              " 73,\n",
              " 9,\n",
              " 13,\n",
              " 31,\n",
              " 93,\n",
              " 19,\n",
              " 90,\n",
              " 80,\n",
              " 63,\n",
              " 63,\n",
              " 97,\n",
              " 90,\n",
              " 43,\n",
              " 98,\n",
              " 89,\n",
              " 2,\n",
              " 5,\n",
              " 63,\n",
              " 92,\n",
              " 17,\n",
              " 27,\n",
              " 100,\n",
              " 36,\n",
              " 85,\n",
              " 12,\n",
              " 5,\n",
              " 54,\n",
              " 90,\n",
              " 96,\n",
              " 4,\n",
              " 72,\n",
              " 20,\n",
              " -1,\n",
              " -2,\n",
              " 0,\n",
              " -4]"
            ]
          },
          "metadata": {},
          "execution_count": 27
        }
      ]
    },
    {
      "cell_type": "markdown",
      "metadata": {
        "id": "GGF5iQWZZXPb"
      },
      "source": [
        "# DICCIONARIOS"
      ]
    },
    {
      "cell_type": "markdown",
      "metadata": {
        "id": "kQRbGzXFZbsn"
      },
      "source": [
        "Crear un diccionario de 6 personas que conozcas con su primer nombre y su edad.\n"
      ]
    },
    {
      "cell_type": "code",
      "metadata": {
        "colab": {
          "base_uri": "https://localhost:8080/"
        },
        "id": "UX6QTWlPXAj-",
        "outputId": "84493ed4-9b9e-496f-e009-df8dbdb8556c"
      },
      "source": [
        "L1={'SAUL':20,'MADELINE':21,'NORA':39,'FELICIA':12,'KARINA':50,'TOMI':10}"
      ],
      "execution_count": 28,
      "outputs": [
        {
          "output_type": "execute_result",
          "data": {
            "text/plain": [
              "{'FELICIA': 12,\n",
              " 'KARINA': 50,\n",
              " 'MADELINE': 21,\n",
              " 'NORA': 39,\n",
              " 'SAUL': 20,\n",
              " 'TOMI': 10}"
            ]
          },
          "metadata": {},
          "execution_count": 28
        }
      ]
    },
    {
      "cell_type": "markdown",
      "metadata": {
        "id": "ZtC3uLBSZu4i"
      },
      "source": [
        "Crear una lista con los valores de la edad y reacomodar la lista de menor a mayor valor."
      ]
    },
    {
      "cell_type": "code",
      "metadata": {
        "colab": {
          "base_uri": "https://localhost:8080/"
        },
        "id": "VnxagVyBZvel",
        "outputId": "7779b763-3cc5-4afa-c070-d1eb7d2b89e7"
      },
      "source": [
        "listad1=[]\n",
        "listad1.append(d1['SAUL'])\n",
        "listad1.append(d1['MADELINE'])\n",
        "listad1.append(d1['NORA'])\n",
        "listad1.append(d1['FELICIA'])\n",
        "listad1.append(d1['KARINA'])\n",
        "listad1.append(d1['TOMI'])\n",
        "listad1.sort()\n",
        "listad1"
      ],
      "execution_count": 29,
      "outputs": [
        {
          "output_type": "execute_result",
          "data": {
            "text/plain": [
              "[10, 12, 20, 21, 39, 50]"
            ]
          },
          "metadata": {},
          "execution_count": 29
        }
      ]
    },
    {
      "cell_type": "markdown",
      "metadata": {
        "id": "98x0QlnVZ_NY"
      },
      "source": [
        "Usando el diccionario y un loop, imprimir solo los nombres."
      ]
    },
    {
      "cell_type": "code",
      "metadata": {
        "colab": {
          "base_uri": "https://localhost:8080/"
        },
        "id": "xG1aMdBVaATZ",
        "outputId": "faa909ee-4827-46f6-d637-f5d7001ed031"
      },
      "source": [
        "#https://devcode.la/tutoriales/diccionarios-en-python/\n",
        "for key in d1:\n",
        "  print (key)"
      ],
      "execution_count": 32,
      "outputs": [
        {
          "output_type": "stream",
          "text": [
            "SAUL\n",
            "MADELINE\n",
            "NORA\n",
            "FELICIA\n",
            "KARINA\n",
            "TOMI\n"
          ],
          "name": "stdout"
        }
      ]
    },
    {
      "cell_type": "markdown",
      "metadata": {
        "id": "wZni0leIae4r"
      },
      "source": [
        "Añadir dos personas nuevas a tu diccionario, incluyendo edad."
      ]
    },
    {
      "cell_type": "code",
      "metadata": {
        "colab": {
          "base_uri": "https://localhost:8080/"
        },
        "id": "cCvzLskeahOc",
        "outputId": "e25e37bb-3fc6-49a0-caf2-7426fb270b5f"
      },
      "source": [
        "d1[\"LUPE\"]=\"34\"\n",
        "d1[\"RUBEN\"]=\"27\"\n",
        "d1"
      ],
      "execution_count": 34,
      "outputs": [
        {
          "output_type": "execute_result",
          "data": {
            "text/plain": [
              "{'FELICIA': 12,\n",
              " 'KARINA': 50,\n",
              " 'LUPE': '34',\n",
              " 'MADELINE': 21,\n",
              " 'NORA': 39,\n",
              " 'RUBEN': '27',\n",
              " 'SAUL': 20,\n",
              " 'TOMI': 10}"
            ]
          },
          "metadata": {},
          "execution_count": 34
        }
      ]
    },
    {
      "cell_type": "markdown",
      "metadata": {
        "id": "T8v5z_x6audj"
      },
      "source": [
        "# SETS"
      ]
    },
    {
      "cell_type": "markdown",
      "metadata": {
        "id": "NmqrAovLaxRw"
      },
      "source": [
        "Crea un set con 100 numeros aleatorios enteros del 1 al 25.\n",
        "\n",
        "\n",
        "\n"
      ]
    },
    {
      "cell_type": "code",
      "metadata": {
        "id": "SqhYrnY3a0nj"
      },
      "source": [
        "set100={1}\n",
        "i=1\n",
        "set100.remove(1)\n",
        "while i<=100:\n",
        "  set100.add(random.randint(1,25))\n",
        "  i=i+1"
      ],
      "execution_count": 35,
      "outputs": []
    },
    {
      "cell_type": "markdown",
      "metadata": {
        "id": "vmR1-yJ7a7wY"
      },
      "source": [
        "Comprueba la longitud de tu set."
      ]
    },
    {
      "cell_type": "code",
      "metadata": {
        "colab": {
          "base_uri": "https://localhost:8080/"
        },
        "id": "3S5bi_7Ja8Yh",
        "outputId": "53a68125-f119-4d24-eaab-e600831d12de"
      },
      "source": [
        "len(set100)"
      ],
      "execution_count": 36,
      "outputs": [
        {
          "output_type": "execute_result",
          "data": {
            "text/plain": [
              "24"
            ]
          },
          "metadata": {},
          "execution_count": 36
        }
      ]
    },
    {
      "cell_type": "markdown",
      "metadata": {
        "id": "HMMME9jlbAUU"
      },
      "source": [
        "Crea una lista de 5 numeros aleatorios del 1 al 10 y comprueba si cada valor aparece en el set inicial."
      ]
    },
    {
      "cell_type": "code",
      "metadata": {
        "colab": {
          "base_uri": "https://localhost:8080/"
        },
        "id": "dSbYo8rBbCcz",
        "outputId": "a8121e0d-471c-473e-af5b-b32c11c66011"
      },
      "source": [
        "lista5=[]\n",
        "i=1\n",
        "while i<=5:\n",
        "  lista5.append(random.randint(1,10))\n",
        "  i=i+1\n",
        "i=0\n",
        "while i<=4:\n",
        "  print(\"\\nEl número \",lista5[i],\" está en el set de 100 nuumeros?\")\n",
        "  print(lista5[i] in set100)\n",
        "  i=i+1"
      ],
      "execution_count": 40,
      "outputs": [
        {
          "output_type": "stream",
          "text": [
            "\n",
            "El número  2  está en el set de 100 nuumeros?\n",
            "True\n",
            "\n",
            "El número  4  está en el set de 100 nuumeros?\n",
            "True\n",
            "\n",
            "El número  1  está en el set de 100 nuumeros?\n",
            "True\n",
            "\n",
            "El número  8  está en el set de 100 nuumeros?\n",
            "True\n",
            "\n",
            "El número  8  está en el set de 100 nuumeros?\n",
            "True\n"
          ],
          "name": "stdout"
        }
      ]
    },
    {
      "cell_type": "markdown",
      "metadata": {
        "id": "L3aJFlBJbQji"
      },
      "source": [
        ""
      ]
    }
  ]
}